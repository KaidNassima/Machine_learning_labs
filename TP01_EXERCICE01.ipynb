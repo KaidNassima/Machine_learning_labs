{
  "nbformat": 4,
  "nbformat_minor": 0,
  "metadata": {
    "colab": {
      "provenance": [],
      "authorship_tag": "ABX9TyPDzeX5jnFGPX8gxzhVl7WN",
      "include_colab_link": true
    },
    "kernelspec": {
      "name": "python3",
      "display_name": "Python 3"
    },
    "language_info": {
      "name": "python"
    }
  },
  "cells": [
    {
      "cell_type": "markdown",
      "metadata": {
        "id": "view-in-github",
        "colab_type": "text"
      },
      "source": [
        "<a href=\"https://colab.research.google.com/github/KaidNassima/Machine_learning_labs/blob/main/TP01_EXERCICE01.ipynb\" target=\"_parent\"><img src=\"https://colab.research.google.com/assets/colab-badge.svg\" alt=\"Open In Colab\"/></a>"
      ]
    },
    {
      "cell_type": "code",
      "execution_count": null,
      "metadata": {
        "id": "VOrNuylCyVe6"
      },
      "outputs": [],
      "source": [
        "#import libraries\n",
        "import numpy as np \n",
        "import matplotlib.pyplot as plt\n",
        "from sklearn.linear_model import SGDRegressor "
      ]
    },
    {
      "cell_type": "markdown",
      "source": [
        "QUESTION 01"
      ],
      "metadata": {
        "id": "CdReBouJCAFY"
      }
    },
    {
      "cell_type": "code",
      "source": [
        "#generate vecto x & y \n",
        "x=2*np.random.rand(100,1)\n",
        "#y=b+ax+generated noise\n",
        "y=4+3*x+np.random.randn(100,1)*0.5"
      ],
      "metadata": {
        "id": "TdkKfk-tzZPg"
      },
      "execution_count": null,
      "outputs": []
    },
    {
      "cell_type": "markdown",
      "source": [
        "QUESTION 02"
      ],
      "metadata": {
        "id": "ddXB_ZefCO0y"
      }
    },
    {
      "cell_type": "code",
      "source": [
        "#visualize data\n",
        "plt.figure()\n",
        "plt.xlabel('x'),plt.ylabel('y')\n",
        "plt.scatter(x,y)"
      ],
      "metadata": {
        "colab": {
          "base_uri": "https://localhost:8080/",
          "height": 296
        },
        "id": "S3Yvac_iz7hi",
        "outputId": "32c079cb-64fa-4a21-869b-7ea9cee99c6a"
      },
      "execution_count": null,
      "outputs": [
        {
          "output_type": "execute_result",
          "data": {
            "text/plain": [
              "<matplotlib.collections.PathCollection at 0x7f86364c9250>"
            ]
          },
          "metadata": {},
          "execution_count": 3
        },
        {
          "output_type": "display_data",
          "data": {
            "text/plain": [
              "<Figure size 432x288 with 1 Axes>"
            ],
            "image/png": "[encoded data removed]"
          },
          "metadata": {
            "needs_background": "light"
          }
        }
      ]
    },
    {
      "cell_type": "markdown",
      "source": [
        "QUESTION 03"
      ],
      "metadata": {
        "id": "9SRlXODZCZlz"
      }
    },
    {
      "cell_type": "code",
      "source": [
        "#define model/Create an instance from SGDRegressor with max iteration = 100  learning rate 10^-4 as parametres\n",
        "\n",
        "model=SGDRegressor(max_iter=100,alpha=0.0001)"
      ],
      "metadata": {
        "id": "mJTGGwUt0gZ9"
      },
      "execution_count": null,
      "outputs": []
    },
    {
      "cell_type": "markdown",
      "source": [
        "QUESTION 04"
      ],
      "metadata": {
        "id": "dsSVkUWVCjmF"
      }
    },
    {
      "cell_type": "code",
      "source": [
        "#training the model \n",
        "model.fit(x,y.ravel())\n",
        "#calculate and display the score\n",
        "score=model.score(x,y)\n",
        "print(\"score: \"+str(score))"
      ],
      "metadata": {
        "colab": {
          "base_uri": "https://localhost:8080/"
        },
        "id": "adpX1rXm1g8O",
        "outputId": "eacf0ca3-0758-4f39-f460-47fb20d1dbba"
      },
      "execution_count": null,
      "outputs": [
        {
          "output_type": "stream",
          "name": "stdout",
          "text": [
            "score: 0.8939478406228326\n"
          ]
        }
      ]
    },
    {
      "cell_type": "markdown",
      "source": [
        "QUESTION 06\n"
      ],
      "metadata": {
        "id": "5X_9zg_ICtPb"
      }
    },
    {
      "cell_type": "code",
      "source": [
        "x_new=2 * np.random.rand(100,1)\n",
        "y_new=4+ 3*x_new + np.random.randn(100,1)*0.5\n",
        "plt.scatter(x_new,y_new)\n",
        "#plot prediction \n",
        "plt.plot(x_new, model.predict(x_new), color= 'red')\n",
        "plt.show()"
      ],
      "metadata": {
        "colab": {
          "base_uri": "https://localhost:8080/",
          "height": 265
        },
        "id": "unQTMZSf3g3N",
        "outputId": "b0897808-1594-4cdb-dbd4-35a32da992cf"
      },
      "execution_count": null,
      "outputs": [
        {
          "output_type": "display_data",
          "data": {
            "text/plain": [
              "<Figure size 432x288 with 1 Axes>"
            ],
            "image/png": "[encoded data removed]"
          },
          "metadata": {
            "needs_background": "light"
          }
        }
      ]
    },
    {
      "cell_type": "markdown",
      "source": [
        "QUESTION 07\n"
      ],
      "metadata": {
        "id": "nfi4vIUlC1H8"
      }
    },
    {
      "cell_type": "code",
      "source": [
        "#qst7 : we changed the number of iteration & learning rate ( chose  bigger number )\n",
        "model=SGDRegressor(max_iter=1000,alpha=0.001)"
      ],
      "metadata": {
        "id": "N43mu7c73qjW"
      },
      "execution_count": null,
      "outputs": []
    },
    {
      "cell_type": "markdown",
      "source": [
        "QUESTION 08\n"
      ],
      "metadata": {
        "id": "UscZwanMC7ag"
      }
    },
    {
      "cell_type": "code",
      "source": [
        "#training the model with the new parameters \n",
        "model.fit(x,y.ravel())\n",
        "#calculate and display score again \n",
        "score=model.score(x,y)\n",
        "print(\"score: \"+str(score))"
      ],
      "metadata": {
        "colab": {
          "base_uri": "https://localhost:8080/"
        },
        "id": "aQeOVSxT33pu",
        "outputId": "6c93fce7-3aae-48bb-ca93-b52d48ddb5e6"
      },
      "execution_count": null,
      "outputs": [
        {
          "output_type": "stream",
          "name": "stdout",
          "text": [
            "score: 0.8944579922315427\n"
          ]
        }
      ]
    },
    {
      "cell_type": "code",
      "source": [
        "x_new=2 * np.random.rand(100,1)\n",
        "y_new=4+ 3*x_new + np.random.randn(100,1)*0.5\n",
        "plt.scatter(x_new,y_new)\n",
        "#plot prediction \n",
        "plt.plot(x_new, model.predict(x_new), color= 'red')\n",
        "plt.show()"
      ],
      "metadata": {
        "colab": {
          "base_uri": "https://localhost:8080/",
          "height": 265
        },
        "id": "eUBZ8r354Csk",
        "outputId": "3d4c1cf7-c68d-45d2-9f1f-aa7747d37c7a"
      },
      "execution_count": null,
      "outputs": [
        {
          "output_type": "display_data",
          "data": {
            "text/plain": [
              "<Figure size 432x288 with 1 Axes>"
            ],
            "image/png": "[encoded data removed]"
          },
          "metadata": {
            "needs_background": "light"
          }
        }
      ]
    },
    {
      "cell_type": "markdown",
      "source": [
        "QUESTION 09\n"
      ],
      "metadata": {
        "id": "vzb_0UI-DQl5"
      }
    },
    {
      "cell_type": "code",
      "source": [
        "#calculate the loss using the string io module \n",
        "from io import StringIO \n",
        "import sys\n",
        "old_stdout = sys.stdout\n",
        "sys.stdout = loss = StringIO()\n",
        "clf = SGDRegressor(max_iter= 1000, alpha= 0.0001, verbose=1)\n",
        "clf.fit(x,y.ravel())\n",
        "sys.stdout = old_stdout\n",
        "loss_history = loss.getvalue()\n",
        "loss_list = []\n",
        "for line in loss_history.split('\\n'):\n",
        "    if(len(line.split(\"loss: \")) == 1):\n",
        "        continue\n",
        "    loss_list.append(float(line.split(\"loss: \")[-1]))\n",
        "\n",
        "plt.plot(np.arange(len(loss_list)), loss_list)\n",
        "plt.xlabel(\"Epochs\")\n",
        "plt.ylabel(\"Loss\")"
      ],
      "metadata": {
        "id": "Ai_Owl1Z82Mw",
        "colab": {
          "base_uri": "https://localhost:8080/",
          "height": 296
        },
        "outputId": "a2defded-4a11-4846-abaf-d3f6e28cf82e"
      },
      "execution_count": null,
      "outputs": [
        {
          "output_type": "execute_result",
          "data": {
            "text/plain": [
              "Text(0, 0.5, 'Loss')"
            ]
          },
          "metadata": {},
          "execution_count": 10
        },
        {
          "output_type": "display_data",
          "data": {
            "text/plain": [
              "<Figure size 432x288 with 1 Axes>"
            ],
            "image/png": "[encoded data removed]"
          },
          "metadata": {
            "needs_background": "light"
          }
        }
      ]
    }
  ]
}