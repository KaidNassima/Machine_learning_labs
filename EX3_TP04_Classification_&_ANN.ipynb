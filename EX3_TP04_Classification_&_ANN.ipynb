{
  "nbformat": 4,
  "nbformat_minor": 0,
  "metadata": {
    "colab": {
      "provenance": [],
      "include_colab_link": true
    },
    "kernelspec": {
      "name": "python3",
      "display_name": "Python 3"
    },
    "language_info": {
      "name": "python"
    }
  },
  "cells": [
    {
      "cell_type": "markdown",
      "metadata": {
        "id": "view-in-github",
        "colab_type": "text"
      },
      "source": [
        "<a href=\"https://colab.research.google.com/github/KaidNassima/Machine_learning_labs/blob/main/EX3_TP04_Classification_%26_ANN.ipynb\" target=\"_parent\"><img src=\"https://colab.research.google.com/assets/colab-badge.svg\" alt=\"Open In Colab\"/></a>"
      ]
    },
    {
      "cell_type": "markdown",
      "source": [
        "Exercice 03 \n"
      ],
      "metadata": {
        "id": "-BRjLFJohAMn"
      }
    },
    {
      "cell_type": "markdown",
      "source": [
        "Question 01 : Loading the data "
      ],
      "metadata": {
        "id": "jw1Zc9QZhDTh"
      }
    },
    {
      "cell_type": "code",
      "execution_count": null,
      "metadata": {
        "id": "P4EfA7oXNNKC",
        "colab": {
          "base_uri": "https://localhost:8080/",
          "height": 74
        },
        "outputId": "732e389d-015a-4fe6-aa3c-9fc56cfdff6a"
      },
      "outputs": [
        {
          "output_type": "display_data",
          "data": {
            "text/plain": [
              "<IPython.core.display.HTML object>"
            ],
            "text/html": [
              "\n",
              "     <input type=\"file\" id=\"files-065cd205-06ed-4d8e-a111-55c8da9c8ce2\" name=\"files[]\" multiple disabled\n",
              "        style=\"border:none\" />\n",
              "     <output id=\"result-065cd205-06ed-4d8e-a111-55c8da9c8ce2\">\n",
              "      Upload widget is only available when the cell has been executed in the\n",
              "      current browser session. Please rerun this cell to enable.\n",
              "      </output>\n",
              "      <script>// Copyright 2017 Google LLC\n",
              "//\n",
              "// Licensed under the Apache License, Version 2.0 (the \"License\");\n",
              "// you may not use this file except in compliance with the License.\n",
              "// You may obtain a copy of the License at\n",
              "//\n",
              "//      http://www.apache.org/licenses/LICENSE-2.0\n",
              "//\n",
              "// Unless required by applicable law or agreed to in writing, software\n",
              "// distributed under the License is distributed on an \"AS IS\" BASIS,\n",
              "// WITHOUT WARRANTIES OR CONDITIONS OF ANY KIND, either express or implied.\n",
              "// See the License for the specific language governing permissions and\n",
              "// limitations under the License.\n",
              "\n",
              "/**\n",
              " * @fileoverview Helpers for google.colab Python module.\n",
              " */\n",
              "(function(scope) {\n",
              "function span(text, styleAttributes = {}) {\n",
              "  const element = document.createElement('span');\n",
              "  element.textContent = text;\n",
              "  for (const key of Object.keys(styleAttributes)) {\n",
              "    element.style[key] = styleAttributes[key];\n",
              "  }\n",
              "  return element;\n",
              "}\n",
              "\n",
              "// Max number of bytes which will be uploaded at a time.\n",
              "const MAX_PAYLOAD_SIZE = 100 * 1024;\n",
              "\n",
              "function _uploadFiles(inputId, outputId) {\n",
              "  const steps = uploadFilesStep(inputId, outputId);\n",
              "  const outputElement = document.getElementById(outputId);\n",
              "  // Cache steps on the outputElement to make it available for the next call\n",
              "  // to uploadFilesContinue from Python.\n",
              "  outputElement.steps = steps;\n",
              "\n",
              "  return _uploadFilesContinue(outputId);\n",
              "}\n",
              "\n",
              "// This is roughly an async generator (not supported in the browser yet),\n",
              "// where there are multiple asynchronous steps and the Python side is going\n",
              "// to poll for completion of each step.\n",
              "// This uses a Promise to block the python side on completion of each step,\n",
              "// then passes the result of the previous step as the input to the next step.\n",
              "function _uploadFilesContinue(outputId) {\n",
              "  const outputElement = document.getElementById(outputId);\n",
              "  const steps = outputElement.steps;\n",
              "\n",
              "  const next = steps.next(outputElement.lastPromiseValue);\n",
              "  return Promise.resolve(next.value.promise).then((value) => {\n",
              "    // Cache the last promise value to make it available to the next\n",
              "    // step of the generator.\n",
              "    outputElement.lastPromiseValue = value;\n",
              "    return next.value.response;\n",
              "  });\n",
              "}\n",
              "\n",
              "/**\n",
              " * Generator function which is called between each async step of the upload\n",
              " * process.\n",
              " * @param {string} inputId Element ID of the input file picker element.\n",
              " * @param {string} outputId Element ID of the output display.\n",
              " * @return {!Iterable<!Object>} Iterable of next steps.\n",
              " */\n",
              "function* uploadFilesStep(inputId, outputId) {\n",
              "  const inputElement = document.getElementById(inputId);\n",
              "  inputElement.disabled = false;\n",
              "\n",
              "  const outputElement = document.getElementById(outputId);\n",
              "  outputElement.innerHTML = '';\n",
              "\n",
              "  const pickedPromise = new Promise((resolve) => {\n",
              "    inputElement.addEventListener('change', (e) => {\n",
              "      resolve(e.target.files);\n",
              "    });\n",
              "  });\n",
              "\n",
              "  const cancel = document.createElement('button');\n",
              "  inputElement.parentElement.appendChild(cancel);\n",
              "  cancel.textContent = 'Cancel upload';\n",
              "  const cancelPromise = new Promise((resolve) => {\n",
              "    cancel.onclick = () => {\n",
              "      resolve(null);\n",
              "    };\n",
              "  });\n",
              "\n",
              "  // Wait for the user to pick the files.\n",
              "  const files = yield {\n",
              "    promise: Promise.race([pickedPromise, cancelPromise]),\n",
              "    response: {\n",
              "      action: 'starting',\n",
              "    }\n",
              "  };\n",
              "\n",
              "  cancel.remove();\n",
              "\n",
              "  // Disable the input element since further picks are not allowed.\n",
              "  inputElement.disabled = true;\n",
              "\n",
              "  if (!files) {\n",
              "    return {\n",
              "      response: {\n",
              "        action: 'complete',\n",
              "      }\n",
              "    };\n",
              "  }\n",
              "\n",
              "  for (const file of files) {\n",
              "    const li = document.createElement('li');\n",
              "    li.append(span(file.name, {fontWeight: 'bold'}));\n",
              "    li.append(span(\n",
              "        `(${file.type || 'n/a'}) - ${file.size} bytes, ` +\n",
              "        `last modified: ${\n",
              "            file.lastModifiedDate ? file.lastModifiedDate.toLocaleDateString() :\n",
              "                                    'n/a'} - `));\n",
              "    const percent = span('0% done');\n",
              "    li.appendChild(percent);\n",
              "\n",
              "    outputElement.appendChild(li);\n",
              "\n",
              "    const fileDataPromise = new Promise((resolve) => {\n",
              "      const reader = new FileReader();\n",
              "      reader.onload = (e) => {\n",
              "        resolve(e.target.result);\n",
              "      };\n",
              "      reader.readAsArrayBuffer(file);\n",
              "    });\n",
              "    // Wait for the data to be ready.\n",
              "    let fileData = yield {\n",
              "      promise: fileDataPromise,\n",
              "      response: {\n",
              "        action: 'continue',\n",
              "      }\n",
              "    };\n",
              "\n",
              "    // Use a chunked sending to avoid message size limits. See b/62115660.\n",
              "    let position = 0;\n",
              "    do {\n",
              "      const length = Math.min(fileData.byteLength - position, MAX_PAYLOAD_SIZE);\n",
              "      const chunk = new Uint8Array(fileData, position, length);\n",
              "      position += length;\n",
              "\n",
              "      const base64 = btoa(String.fromCharCode.apply(null, chunk));\n",
              "      yield {\n",
              "        response: {\n",
              "          action: 'append',\n",
              "          file: file.name,\n",
              "          data: base64,\n",
              "        },\n",
              "      };\n",
              "\n",
              "      let percentDone = fileData.byteLength === 0 ?\n",
              "          100 :\n",
              "          Math.round((position / fileData.byteLength) * 100);\n",
              "      percent.textContent = `${percentDone}% done`;\n",
              "\n",
              "    } while (position < fileData.byteLength);\n",
              "  }\n",
              "\n",
              "  // All done.\n",
              "  yield {\n",
              "    response: {\n",
              "      action: 'complete',\n",
              "    }\n",
              "  };\n",
              "}\n",
              "\n",
              "scope.google = scope.google || {};\n",
              "scope.google.colab = scope.google.colab || {};\n",
              "scope.google.colab._files = {\n",
              "  _uploadFiles,\n",
              "  _uploadFilesContinue,\n",
              "};\n",
              "})(self);\n",
              "</script> "
            ]
          },
          "metadata": {}
        },
        {
          "output_type": "stream",
          "name": "stdout",
          "text": [
            "Saving Data_Set.csv to Data_Set.csv\n"
          ]
        }
      ],
      "source": [
        "#loading data from collab \n",
        "from google.colab import files\n",
        "uploaded = files.upload()\n",
        "#loading data \n",
        "import pandas as pd\n",
        "data=pd.read_csv('Data_Set.csv',header=None)\n"
      ]
    },
    {
      "cell_type": "markdown",
      "source": [
        "Question 02 : display data in tabular form "
      ],
      "metadata": {
        "id": "b_GR0D0nhjdj"
      }
    },
    {
      "cell_type": "code",
      "source": [
        "#display data \n",
        "data"
      ],
      "metadata": {
        "colab": {
          "base_uri": "https://localhost:8080/",
          "height": 424
        },
        "id": "s0QLLbpjhxGd",
        "outputId": "5fe60b83-15d5-4bea-aba2-dc33e720e728"
      },
      "execution_count": null,
      "outputs": [
        {
          "output_type": "execute_result",
          "data": {
            "text/plain": [
              "         0     1   2   3  4   5    6      7\n",
              "0        0  2009  21   9  6  84  121  14264\n",
              "1        1  2007   4   2  3  86  121  12032\n",
              "2        2  2016  18   3  7  90  120  13560\n",
              "3        3  2002  13   2  2  80  128  12029\n",
              "4        4  2014  25   5  8  81  122  14157\n",
              "...    ...   ...  ..  .. ..  ..  ...    ...\n",
              "4995  4995  2007  17   6  3  90  125  13539\n",
              "4996  4996  2016   7  10  0  85  129  14757\n",
              "4997  4997  2017   6  10  5  90  125  14102\n",
              "4998  4998  2010  37   3  5  81  128  14313\n",
              "4999  4999  2018   9   1  9  90  127  12770\n",
              "\n",
              "[5000 rows x 8 columns]"
            ],
            "text/html": [
              "\n",
              "  <div id=\"df-8e3d34ac-8009-41f3-ad12-06f98e7ce1c8\">\n",
              "    <div class=\"colab-df-container\">\n",
              "      <div>\n",
              "<style scoped>\n",
              "    .dataframe tbody tr th:only-of-type {\n",
              "        vertical-align: middle;\n",
              "    }\n",
              "\n",
              "    .dataframe tbody tr th {\n",
              "        vertical-align: top;\n",
              "    }\n",
              "\n",
              "    .dataframe thead th {\n",
              "        text-align: right;\n",
              "    }\n",
              "</style>\n",
              "<table border=\"1\" class=\"dataframe\">\n",
              "  <thead>\n",
              "    <tr style=\"text-align: right;\">\n",
              "      <th></th>\n",
              "      <th>0</th>\n",
              "      <th>1</th>\n",
              "      <th>2</th>\n",
              "      <th>3</th>\n",
              "      <th>4</th>\n",
              "      <th>5</th>\n",
              "      <th>6</th>\n",
              "      <th>7</th>\n",
              "    </tr>\n",
              "  </thead>\n",
              "  <tbody>\n",
              "    <tr>\n",
              "      <th>0</th>\n",
              "      <td>0</td>\n",
              "      <td>2009</td>\n",
              "      <td>21</td>\n",
              "      <td>9</td>\n",
              "      <td>6</td>\n",
              "      <td>84</td>\n",
              "      <td>121</td>\n",
              "      <td>14264</td>\n",
              "    </tr>\n",
              "    <tr>\n",
              "      <th>1</th>\n",
              "      <td>1</td>\n",
              "      <td>2007</td>\n",
              "      <td>4</td>\n",
              "      <td>2</td>\n",
              "      <td>3</td>\n",
              "      <td>86</td>\n",
              "      <td>121</td>\n",
              "      <td>12032</td>\n",
              "    </tr>\n",
              "    <tr>\n",
              "      <th>2</th>\n",
              "      <td>2</td>\n",
              "      <td>2016</td>\n",
              "      <td>18</td>\n",
              "      <td>3</td>\n",
              "      <td>7</td>\n",
              "      <td>90</td>\n",
              "      <td>120</td>\n",
              "      <td>13560</td>\n",
              "    </tr>\n",
              "    <tr>\n",
              "      <th>3</th>\n",
              "      <td>3</td>\n",
              "      <td>2002</td>\n",
              "      <td>13</td>\n",
              "      <td>2</td>\n",
              "      <td>2</td>\n",
              "      <td>80</td>\n",
              "      <td>128</td>\n",
              "      <td>12029</td>\n",
              "    </tr>\n",
              "    <tr>\n",
              "      <th>4</th>\n",
              "      <td>4</td>\n",
              "      <td>2014</td>\n",
              "      <td>25</td>\n",
              "      <td>5</td>\n",
              "      <td>8</td>\n",
              "      <td>81</td>\n",
              "      <td>122</td>\n",
              "      <td>14157</td>\n",
              "    </tr>\n",
              "    <tr>\n",
              "      <th>...</th>\n",
              "      <td>...</td>\n",
              "      <td>...</td>\n",
              "      <td>...</td>\n",
              "      <td>...</td>\n",
              "      <td>...</td>\n",
              "      <td>...</td>\n",
              "      <td>...</td>\n",
              "      <td>...</td>\n",
              "    </tr>\n",
              "    <tr>\n",
              "      <th>4995</th>\n",
              "      <td>4995</td>\n",
              "      <td>2007</td>\n",
              "      <td>17</td>\n",
              "      <td>6</td>\n",
              "      <td>3</td>\n",
              "      <td>90</td>\n",
              "      <td>125</td>\n",
              "      <td>13539</td>\n",
              "    </tr>\n",
              "    <tr>\n",
              "      <th>4996</th>\n",
              "      <td>4996</td>\n",
              "      <td>2016</td>\n",
              "      <td>7</td>\n",
              "      <td>10</td>\n",
              "      <td>0</td>\n",
              "      <td>85</td>\n",
              "      <td>129</td>\n",
              "      <td>14757</td>\n",
              "    </tr>\n",
              "    <tr>\n",
              "      <th>4997</th>\n",
              "      <td>4997</td>\n",
              "      <td>2017</td>\n",
              "      <td>6</td>\n",
              "      <td>10</td>\n",
              "      <td>5</td>\n",
              "      <td>90</td>\n",
              "      <td>125</td>\n",
              "      <td>14102</td>\n",
              "    </tr>\n",
              "    <tr>\n",
              "      <th>4998</th>\n",
              "      <td>4998</td>\n",
              "      <td>2010</td>\n",
              "      <td>37</td>\n",
              "      <td>3</td>\n",
              "      <td>5</td>\n",
              "      <td>81</td>\n",
              "      <td>128</td>\n",
              "      <td>14313</td>\n",
              "    </tr>\n",
              "    <tr>\n",
              "      <th>4999</th>\n",
              "      <td>4999</td>\n",
              "      <td>2018</td>\n",
              "      <td>9</td>\n",
              "      <td>1</td>\n",
              "      <td>9</td>\n",
              "      <td>90</td>\n",
              "      <td>127</td>\n",
              "      <td>12770</td>\n",
              "    </tr>\n",
              "  </tbody>\n",
              "</table>\n",
              "<p>5000 rows × 8 columns</p>\n",
              "</div>\n",
              "      <button class=\"colab-df-convert\" onclick=\"convertToInteractive('df-8e3d34ac-8009-41f3-ad12-06f98e7ce1c8')\"\n",
              "              title=\"Convert this dataframe to an interactive table.\"\n",
              "              style=\"display:none;\">\n",
              "        \n",
              "  <svg xmlns=\"http://www.w3.org/2000/svg\" height=\"24px\"viewBox=\"0 0 24 24\"\n",
              "       width=\"24px\">\n",
              "    <path d=\"M0 0h24v24H0V0z\" fill=\"none\"/>\n",
              "    <path d=\"M18.56 5.44l.94 2.06.94-2.06 2.06-.94-2.06-.94-.94-2.06-.94 2.06-2.06.94zm-11 1L8.5 8.5l.94-2.06 2.06-.94-2.06-.94L8.5 2.5l-.94 2.06-2.06.94zm10 10l.94 2.06.94-2.06 2.06-.94-2.06-.94-.94-2.06-.94 2.06-2.06.94z\"/><path d=\"M17.41 7.96l-1.37-1.37c-.4-.4-.92-.59-1.43-.59-.52 0-1.04.2-1.43.59L10.3 9.45l-7.72 7.72c-.78.78-.78 2.05 0 2.83L4 21.41c.39.39.9.59 1.41.59.51 0 1.02-.2 1.41-.59l7.78-7.78 2.81-2.81c.8-.78.8-2.07 0-2.86zM5.41 20L4 18.59l7.72-7.72 1.47 1.35L5.41 20z\"/>\n",
              "  </svg>\n",
              "      </button>\n",
              "      \n",
              "  <style>\n",
              "    .colab-df-container {\n",
              "      display:flex;\n",
              "      flex-wrap:wrap;\n",
              "      gap: 12px;\n",
              "    }\n",
              "\n",
              "    .colab-df-convert {\n",
              "      background-color: #E8F0FE;\n",
              "      border: none;\n",
              "      border-radius: 50%;\n",
              "      cursor: pointer;\n",
              "      display: none;\n",
              "      fill: #1967D2;\n",
              "      height: 32px;\n",
              "      padding: 0 0 0 0;\n",
              "      width: 32px;\n",
              "    }\n",
              "\n",
              "    .colab-df-convert:hover {\n",
              "      background-color: #E2EBFA;\n",
              "      box-shadow: 0px 1px 2px rgba(60, 64, 67, 0.3), 0px 1px 3px 1px rgba(60, 64, 67, 0.15);\n",
              "      fill: #174EA6;\n",
              "    }\n",
              "\n",
              "    [theme=dark] .colab-df-convert {\n",
              "      background-color: #3B4455;\n",
              "      fill: #D2E3FC;\n",
              "    }\n",
              "\n",
              "    [theme=dark] .colab-df-convert:hover {\n",
              "      background-color: #434B5C;\n",
              "      box-shadow: 0px 1px 3px 1px rgba(0, 0, 0, 0.15);\n",
              "      filter: drop-shadow(0px 1px 2px rgba(0, 0, 0, 0.3));\n",
              "      fill: #FFFFFF;\n",
              "    }\n",
              "  </style>\n",
              "\n",
              "      <script>\n",
              "        const buttonEl =\n",
              "          document.querySelector('#df-8e3d34ac-8009-41f3-ad12-06f98e7ce1c8 button.colab-df-convert');\n",
              "        buttonEl.style.display =\n",
              "          google.colab.kernel.accessAllowed ? 'block' : 'none';\n",
              "\n",
              "        async function convertToInteractive(key) {\n",
              "          const element = document.querySelector('#df-8e3d34ac-8009-41f3-ad12-06f98e7ce1c8');\n",
              "          const dataTable =\n",
              "            await google.colab.kernel.invokeFunction('convertToInteractive',\n",
              "                                                     [key], {});\n",
              "          if (!dataTable) return;\n",
              "\n",
              "          const docLinkHtml = 'Like what you see? Visit the ' +\n",
              "            '<a target=\"_blank\" href=https://colab.research.google.com/notebooks/data_table.ipynb>data table notebook</a>'\n",
              "            + ' to learn more about interactive tables.';\n",
              "          element.innerHTML = '';\n",
              "          dataTable['output_type'] = 'display_data';\n",
              "          await google.colab.output.renderOutput(dataTable, element);\n",
              "          const docLink = document.createElement('div');\n",
              "          docLink.innerHTML = docLinkHtml;\n",
              "          element.appendChild(docLink);\n",
              "        }\n",
              "      </script>\n",
              "    </div>\n",
              "  </div>\n",
              "  "
            ]
          },
          "metadata": {},
          "execution_count": 2
        }
      ]
    },
    {
      "cell_type": "markdown",
      "source": [
        "Question 03 : data normalization"
      ],
      "metadata": {
        "id": "VHmaNdPMh0MT"
      }
    },
    {
      "cell_type": "code",
      "source": [
        "#data normalization\n",
        "min=data.min()\n",
        "max=data.max()\n",
        "n_data=(data-min)/(max-min) \n",
        "#We must carry out the normalization in order to put the different variables on\n",
        "#the same scale, so all the variables will have the same amount of information\n",
        "#and the same importance"
      ],
      "metadata": {
        "id": "uAgCFD6Uh494"
      },
      "execution_count": null,
      "outputs": []
    },
    {
      "cell_type": "markdown",
      "source": [
        "Question 04 : store the last column as labels"
      ],
      "metadata": {
        "id": "x4b9sbUTh9S1"
      }
    },
    {
      "cell_type": "code",
      "source": [
        "#Select the last column as labels\n",
        "y=n_data[7]"
      ],
      "metadata": {
        "id": "UEBx2Dj9iKLu"
      },
      "execution_count": null,
      "outputs": []
    },
    {
      "cell_type": "markdown",
      "source": [
        "Question 05 : delete the last column \"price\" and select all the other columns as features.\n"
      ],
      "metadata": {
        "id": "9ex4a92LiLEo"
      }
    },
    {
      "cell_type": "code",
      "source": [
        "X=n_data\n",
        "X=X.drop(columns=7)"
      ],
      "metadata": {
        "id": "h0nyQ4PIiUrt"
      },
      "execution_count": null,
      "outputs": []
    },
    {
      "cell_type": "markdown",
      "source": [
        "Question 06 : Divide the data into,test and training sets"
      ],
      "metadata": {
        "id": "irlTj4ariYT-"
      }
    },
    {
      "cell_type": "code",
      "source": [
        "from sklearn.model_selection import train_test_split\n",
        "X_train, X_test, y_train, y_test = train_test_split(X, y, test_size=0.2)"
      ],
      "metadata": {
        "id": "nJRo-ERxieZE"
      },
      "execution_count": null,
      "outputs": []
    },
    {
      "cell_type": "markdown",
      "source": [
        "Question 07 : creation of the neural network"
      ],
      "metadata": {
        "id": "HeaYrh7Wihhi"
      }
    },
    {
      "cell_type": "code",
      "source": [
        "import tensorflow as tf\n",
        "#Creation of the neural network\n",
        "model = tf.keras.Sequential()\n",
        "#number features :7\n",
        "model.add(tf.keras.layers.Input(shape=(7))) \n",
        "#input layer\n",
        "model.add(tf.keras.layers.Dense(10,activation='relu')) \n",
        "#hidden layers\n",
        "model.add(tf.keras.layers.Dense(20,activation='relu')) \n",
        "model.add(tf.keras.layers.Dense(5,activation='relu'))\n",
        "#output layer \n",
        "model.add(tf.keras.layers.Dense(1,activation='relu'))\n",
        "#optimize et loss\n",
        "opt = tf.keras.optimizers.Adam(learning_rate=0.0001)\n",
        "model.compile(optimizer=opt, loss='mse')"
      ],
      "metadata": {
        "id": "fmBC9YbjimJQ"
      },
      "execution_count": null,
      "outputs": []
    },
    {
      "cell_type": "markdown",
      "source": [
        "Question 08 : displaying the summary of the model "
      ],
      "metadata": {
        "id": "rPgm4_w4iqbq"
      }
    },
    {
      "cell_type": "code",
      "source": [
        "model.summary()"
      ],
      "metadata": {
        "colab": {
          "base_uri": "https://localhost:8080/"
        },
        "id": "bMinYGc9ivhy",
        "outputId": "310c7454-d4bc-48ae-fef9-524626c6fe6c"
      },
      "execution_count": null,
      "outputs": [
        {
          "output_type": "stream",
          "name": "stdout",
          "text": [
            "Model: \"sequential\"\n",
            "_________________________________________________________________\n",
            " Layer (type)                Output Shape              Param #   \n",
            "=================================================================\n",
            " dense (Dense)               (None, 10)                80        \n",
            "                                                                 \n",
            " dense_1 (Dense)             (None, 20)                220       \n",
            "                                                                 \n",
            " dense_2 (Dense)             (None, 5)                 105       \n",
            "                                                                 \n",
            " dense_3 (Dense)             (None, 1)                 6         \n",
            "                                                                 \n",
            "=================================================================\n",
            "Total params: 411\n",
            "Trainable params: 411\n",
            "Non-trainable params: 0\n",
            "_________________________________________________________________\n"
          ]
        }
      ]
    },
    {
      "cell_type": "markdown",
      "source": [
        "Question 09 : plot the model "
      ],
      "metadata": {
        "id": "Y5bQyvayiyRC"
      }
    },
    {
      "cell_type": "code",
      "source": [
        "tf.keras.utils.plot_model(model)"
      ],
      "metadata": {
        "colab": {
          "base_uri": "https://localhost:8080/",
          "height": 466
        },
        "id": "p01Zj38Wi2yL",
        "outputId": "c6a21cb5-ea93-4a78-bcbb-e923cad19826"
      },
      "execution_count": null,
      "outputs": [
        {
          "output_type": "execute_result",
          "data": {
            "image/png": "[encoded data removed]",
            "text/plain": [
              "<IPython.core.display.Image object>"
            ]
          },
          "metadata": {},
          "execution_count": 9
        }
      ]
    },
    {
      "cell_type": "markdown",
      "source": [
        "Question 10 :  training with 200 iteration "
      ],
      "metadata": {
        "id": "Z1eZX-wfi5e-"
      }
    },
    {
      "cell_type": "code",
      "source": [
        "#Training\n",
        "hist=model.fit(X_train, y_train,validation_data=[X_test,y_test] ,batch_size=32, epochs=200)"
      ],
      "metadata": {
        "colab": {
          "base_uri": "https://localhost:8080/"
        },
        "id": "EmF-5WUbi-iR",
        "outputId": "05c33f92-a001-4857-e619-974aed6a954b"
      },
      "execution_count": null,
      "outputs": [
        {
          "output_type": "stream",
          "name": "stdout",
          "text": [
            "Epoch 1/200\n",
            "125/125 [==============================] - 1s 4ms/step - loss: 0.0427 - val_loss: 0.0290\n",
            "Epoch 2/200\n",
            "125/125 [==============================] - 0s 3ms/step - loss: 0.0260 - val_loss: 0.0226\n",
            "Epoch 3/200\n",
            "125/125 [==============================] - 0s 2ms/step - loss: 0.0204 - val_loss: 0.0174\n",
            "Epoch 4/200\n",
            "125/125 [==============================] - 0s 2ms/step - loss: 0.0160 - val_loss: 0.0136\n",
            "Epoch 5/200\n",
            "125/125 [==============================] - 0s 3ms/step - loss: 0.0130 - val_loss: 0.0113\n",
            "Epoch 6/200\n",
            "125/125 [==============================] - 0s 3ms/step - loss: 0.0110 - val_loss: 0.0098\n",
            "Epoch 7/200\n",
            "125/125 [==============================] - 0s 2ms/step - loss: 0.0097 - val_loss: 0.0088\n",
            "Epoch 8/200\n",
            "125/125 [==============================] - 0s 3ms/step - loss: 0.0089 - val_loss: 0.0082\n",
            "Epoch 9/200\n",
            "125/125 [==============================] - 0s 2ms/step - loss: 0.0083 - val_loss: 0.0077\n",
            "Epoch 10/200\n",
            "125/125 [==============================] - 0s 2ms/step - loss: 0.0079 - val_loss: 0.0074\n",
            "Epoch 11/200\n",
            "125/125 [==============================] - 0s 3ms/step - loss: 0.0076 - val_loss: 0.0072\n",
            "Epoch 12/200\n",
            "125/125 [==============================] - 0s 2ms/step - loss: 0.0074 - val_loss: 0.0069\n",
            "Epoch 13/200\n",
            "125/125 [==============================] - 0s 2ms/step - loss: 0.0071 - val_loss: 0.0068\n",
            "Epoch 14/200\n",
            "125/125 [==============================] - 0s 2ms/step - loss: 0.0070 - val_loss: 0.0067\n",
            "Epoch 15/200\n",
            "125/125 [==============================] - 0s 2ms/step - loss: 0.0068 - val_loss: 0.0065\n",
            "Epoch 16/200\n",
            "125/125 [==============================] - 0s 2ms/step - loss: 0.0067 - val_loss: 0.0064\n",
            "Epoch 17/200\n",
            "125/125 [==============================] - 0s 2ms/step - loss: 0.0066 - val_loss: 0.0063\n",
            "Epoch 18/200\n",
            "125/125 [==============================] - 0s 2ms/step - loss: 0.0065 - val_loss: 0.0063\n",
            "Epoch 19/200\n",
            "125/125 [==============================] - 0s 2ms/step - loss: 0.0064 - val_loss: 0.0062\n",
            "Epoch 20/200\n",
            "125/125 [==============================] - 0s 2ms/step - loss: 0.0063 - val_loss: 0.0061\n",
            "Epoch 21/200\n",
            "125/125 [==============================] - 0s 2ms/step - loss: 0.0062 - val_loss: 0.0061\n",
            "Epoch 22/200\n",
            "125/125 [==============================] - 0s 2ms/step - loss: 0.0061 - val_loss: 0.0060\n",
            "Epoch 23/200\n",
            "125/125 [==============================] - 0s 2ms/step - loss: 0.0061 - val_loss: 0.0060\n",
            "Epoch 24/200\n",
            "125/125 [==============================] - 0s 2ms/step - loss: 0.0060 - val_loss: 0.0059\n",
            "Epoch 25/200\n",
            "125/125 [==============================] - 0s 2ms/step - loss: 0.0060 - val_loss: 0.0059\n",
            "Epoch 26/200\n",
            "125/125 [==============================] - 0s 2ms/step - loss: 0.0059 - val_loss: 0.0059\n",
            "Epoch 27/200\n",
            "125/125 [==============================] - 0s 2ms/step - loss: 0.0059 - val_loss: 0.0058\n",
            "Epoch 28/200\n",
            "125/125 [==============================] - 0s 3ms/step - loss: 0.0058 - val_loss: 0.0058\n",
            "Epoch 29/200\n",
            "125/125 [==============================] - 0s 2ms/step - loss: 0.0058 - val_loss: 0.0058\n",
            "Epoch 30/200\n",
            "125/125 [==============================] - 0s 2ms/step - loss: 0.0058 - val_loss: 0.0057\n",
            "Epoch 31/200\n",
            "125/125 [==============================] - 0s 3ms/step - loss: 0.0057 - val_loss: 0.0058\n",
            "Epoch 32/200\n",
            "125/125 [==============================] - 0s 2ms/step - loss: 0.0057 - val_loss: 0.0057\n",
            "Epoch 33/200\n",
            "125/125 [==============================] - 0s 2ms/step - loss: 0.0057 - val_loss: 0.0057\n",
            "Epoch 34/200\n",
            "125/125 [==============================] - 0s 2ms/step - loss: 0.0056 - val_loss: 0.0057\n",
            "Epoch 35/200\n",
            "125/125 [==============================] - 0s 2ms/step - loss: 0.0056 - val_loss: 0.0057\n",
            "Epoch 36/200\n",
            "125/125 [==============================] - 0s 2ms/step - loss: 0.0056 - val_loss: 0.0056\n",
            "Epoch 37/200\n",
            "125/125 [==============================] - 0s 2ms/step - loss: 0.0056 - val_loss: 0.0056\n",
            "Epoch 38/200\n",
            "125/125 [==============================] - 0s 2ms/step - loss: 0.0055 - val_loss: 0.0057\n",
            "Epoch 39/200\n",
            "125/125 [==============================] - 0s 2ms/step - loss: 0.0055 - val_loss: 0.0056\n",
            "Epoch 40/200\n",
            "125/125 [==============================] - 0s 2ms/step - loss: 0.0055 - val_loss: 0.0056\n",
            "Epoch 41/200\n",
            "125/125 [==============================] - 0s 2ms/step - loss: 0.0055 - val_loss: 0.0056\n",
            "Epoch 42/200\n",
            "125/125 [==============================] - 0s 2ms/step - loss: 0.0055 - val_loss: 0.0056\n",
            "Epoch 43/200\n",
            "125/125 [==============================] - 0s 2ms/step - loss: 0.0054 - val_loss: 0.0056\n",
            "Epoch 44/200\n",
            "125/125 [==============================] - 0s 2ms/step - loss: 0.0054 - val_loss: 0.0055\n",
            "Epoch 45/200\n",
            "125/125 [==============================] - 0s 2ms/step - loss: 0.0054 - val_loss: 0.0056\n",
            "Epoch 46/200\n",
            "125/125 [==============================] - 0s 2ms/step - loss: 0.0054 - val_loss: 0.0055\n",
            "Epoch 47/200\n",
            "125/125 [==============================] - 0s 2ms/step - loss: 0.0054 - val_loss: 0.0055\n",
            "Epoch 48/200\n",
            "125/125 [==============================] - 0s 2ms/step - loss: 0.0054 - val_loss: 0.0055\n",
            "Epoch 49/200\n",
            "125/125 [==============================] - 0s 2ms/step - loss: 0.0054 - val_loss: 0.0055\n",
            "Epoch 50/200\n",
            "125/125 [==============================] - 0s 2ms/step - loss: 0.0053 - val_loss: 0.0055\n",
            "Epoch 51/200\n",
            "125/125 [==============================] - 0s 2ms/step - loss: 0.0053 - val_loss: 0.0056\n",
            "Epoch 52/200\n",
            "125/125 [==============================] - 0s 2ms/step - loss: 0.0053 - val_loss: 0.0055\n",
            "Epoch 53/200\n",
            "125/125 [==============================] - 0s 2ms/step - loss: 0.0053 - val_loss: 0.0055\n",
            "Epoch 54/200\n",
            "125/125 [==============================] - 0s 2ms/step - loss: 0.0053 - val_loss: 0.0055\n",
            "Epoch 55/200\n",
            "125/125 [==============================] - 0s 2ms/step - loss: 0.0053 - val_loss: 0.0055\n",
            "Epoch 56/200\n",
            "125/125 [==============================] - 0s 2ms/step - loss: 0.0053 - val_loss: 0.0056\n",
            "Epoch 57/200\n",
            "125/125 [==============================] - 0s 2ms/step - loss: 0.0053 - val_loss: 0.0055\n",
            "Epoch 58/200\n",
            "125/125 [==============================] - 0s 2ms/step - loss: 0.0053 - val_loss: 0.0055\n",
            "Epoch 59/200\n",
            "125/125 [==============================] - 0s 2ms/step - loss: 0.0053 - val_loss: 0.0054\n",
            "Epoch 60/200\n",
            "125/125 [==============================] - 0s 2ms/step - loss: 0.0053 - val_loss: 0.0054\n",
            "Epoch 61/200\n",
            "125/125 [==============================] - 0s 3ms/step - loss: 0.0053 - val_loss: 0.0055\n",
            "Epoch 62/200\n",
            "125/125 [==============================] - 0s 2ms/step - loss: 0.0053 - val_loss: 0.0055\n",
            "Epoch 63/200\n",
            "125/125 [==============================] - 0s 2ms/step - loss: 0.0053 - val_loss: 0.0054\n",
            "Epoch 64/200\n",
            "125/125 [==============================] - 0s 2ms/step - loss: 0.0053 - val_loss: 0.0054\n",
            "Epoch 65/200\n",
            "125/125 [==============================] - 0s 2ms/step - loss: 0.0052 - val_loss: 0.0054\n",
            "Epoch 66/200\n",
            "125/125 [==============================] - 0s 3ms/step - loss: 0.0052 - val_loss: 0.0054\n",
            "Epoch 67/200\n",
            "125/125 [==============================] - 0s 2ms/step - loss: 0.0052 - val_loss: 0.0054\n",
            "Epoch 68/200\n",
            "125/125 [==============================] - 0s 2ms/step - loss: 0.0052 - val_loss: 0.0054\n",
            "Epoch 69/200\n",
            "125/125 [==============================] - 0s 2ms/step - loss: 0.0052 - val_loss: 0.0054\n",
            "Epoch 70/200\n",
            "125/125 [==============================] - 0s 2ms/step - loss: 0.0052 - val_loss: 0.0054\n",
            "Epoch 71/200\n",
            "125/125 [==============================] - 0s 2ms/step - loss: 0.0052 - val_loss: 0.0054\n",
            "Epoch 72/200\n",
            "125/125 [==============================] - 0s 2ms/step - loss: 0.0052 - val_loss: 0.0054\n",
            "Epoch 73/200\n",
            "125/125 [==============================] - 0s 3ms/step - loss: 0.0052 - val_loss: 0.0054\n",
            "Epoch 74/200\n",
            "125/125 [==============================] - 0s 2ms/step - loss: 0.0052 - val_loss: 0.0054\n",
            "Epoch 75/200\n",
            "125/125 [==============================] - 0s 2ms/step - loss: 0.0052 - val_loss: 0.0054\n",
            "Epoch 76/200\n",
            "125/125 [==============================] - 0s 2ms/step - loss: 0.0052 - val_loss: 0.0054\n",
            "Epoch 77/200\n",
            "125/125 [==============================] - 0s 2ms/step - loss: 0.0052 - val_loss: 0.0054\n",
            "Epoch 78/200\n",
            "125/125 [==============================] - 0s 2ms/step - loss: 0.0052 - val_loss: 0.0054\n",
            "Epoch 79/200\n",
            "125/125 [==============================] - 0s 2ms/step - loss: 0.0052 - val_loss: 0.0053\n",
            "Epoch 80/200\n",
            "125/125 [==============================] - 0s 2ms/step - loss: 0.0052 - val_loss: 0.0054\n",
            "Epoch 81/200\n",
            "125/125 [==============================] - 0s 3ms/step - loss: 0.0052 - val_loss: 0.0054\n",
            "Epoch 82/200\n",
            "125/125 [==============================] - 0s 2ms/step - loss: 0.0052 - val_loss: 0.0053\n",
            "Epoch 83/200\n",
            "125/125 [==============================] - 0s 2ms/step - loss: 0.0052 - val_loss: 0.0053\n",
            "Epoch 84/200\n",
            "125/125 [==============================] - 0s 2ms/step - loss: 0.0052 - val_loss: 0.0054\n",
            "Epoch 85/200\n",
            "125/125 [==============================] - 0s 2ms/step - loss: 0.0052 - val_loss: 0.0053\n",
            "Epoch 86/200\n",
            "125/125 [==============================] - 0s 2ms/step - loss: 0.0051 - val_loss: 0.0053\n",
            "Epoch 87/200\n",
            "125/125 [==============================] - 0s 2ms/step - loss: 0.0052 - val_loss: 0.0053\n",
            "Epoch 88/200\n",
            "125/125 [==============================] - 0s 2ms/step - loss: 0.0051 - val_loss: 0.0053\n",
            "Epoch 89/200\n",
            "125/125 [==============================] - 0s 2ms/step - loss: 0.0052 - val_loss: 0.0053\n",
            "Epoch 90/200\n",
            "125/125 [==============================] - 0s 2ms/step - loss: 0.0051 - val_loss: 0.0053\n",
            "Epoch 91/200\n",
            "125/125 [==============================] - 0s 2ms/step - loss: 0.0051 - val_loss: 0.0055\n",
            "Epoch 92/200\n",
            "125/125 [==============================] - 0s 3ms/step - loss: 0.0051 - val_loss: 0.0053\n",
            "Epoch 93/200\n",
            "125/125 [==============================] - 0s 2ms/step - loss: 0.0052 - val_loss: 0.0054\n",
            "Epoch 94/200\n",
            "125/125 [==============================] - 0s 2ms/step - loss: 0.0051 - val_loss: 0.0053\n",
            "Epoch 95/200\n",
            "125/125 [==============================] - 0s 2ms/step - loss: 0.0051 - val_loss: 0.0053\n",
            "Epoch 96/200\n",
            "125/125 [==============================] - 0s 2ms/step - loss: 0.0051 - val_loss: 0.0054\n",
            "Epoch 97/200\n",
            "125/125 [==============================] - 0s 2ms/step - loss: 0.0051 - val_loss: 0.0053\n",
            "Epoch 98/200\n",
            "125/125 [==============================] - 0s 3ms/step - loss: 0.0051 - val_loss: 0.0053\n",
            "Epoch 99/200\n",
            "125/125 [==============================] - 0s 2ms/step - loss: 0.0051 - val_loss: 0.0053\n",
            "Epoch 100/200\n",
            "125/125 [==============================] - 0s 3ms/step - loss: 0.0051 - val_loss: 0.0053\n",
            "Epoch 101/200\n",
            "125/125 [==============================] - 0s 2ms/step - loss: 0.0051 - val_loss: 0.0053\n",
            "Epoch 102/200\n",
            "125/125 [==============================] - 0s 2ms/step - loss: 0.0051 - val_loss: 0.0053\n",
            "Epoch 103/200\n",
            "125/125 [==============================] - 0s 2ms/step - loss: 0.0051 - val_loss: 0.0053\n",
            "Epoch 104/200\n",
            "125/125 [==============================] - 0s 2ms/step - loss: 0.0051 - val_loss: 0.0053\n",
            "Epoch 105/200\n",
            "125/125 [==============================] - 0s 2ms/step - loss: 0.0051 - val_loss: 0.0053\n",
            "Epoch 106/200\n",
            "125/125 [==============================] - 0s 3ms/step - loss: 0.0051 - val_loss: 0.0053\n",
            "Epoch 107/200\n",
            "125/125 [==============================] - 0s 3ms/step - loss: 0.0051 - val_loss: 0.0053\n",
            "Epoch 108/200\n",
            "125/125 [==============================] - 0s 2ms/step - loss: 0.0051 - val_loss: 0.0053\n",
            "Epoch 109/200\n",
            "125/125 [==============================] - 0s 2ms/step - loss: 0.0051 - val_loss: 0.0053\n",
            "Epoch 110/200\n",
            "125/125 [==============================] - 0s 3ms/step - loss: 0.0051 - val_loss: 0.0053\n",
            "Epoch 111/200\n",
            "125/125 [==============================] - 0s 2ms/step - loss: 0.0051 - val_loss: 0.0054\n",
            "Epoch 112/200\n",
            "125/125 [==============================] - 0s 2ms/step - loss: 0.0051 - val_loss: 0.0053\n",
            "Epoch 113/200\n",
            "125/125 [==============================] - 0s 2ms/step - loss: 0.0051 - val_loss: 0.0053\n",
            "Epoch 114/200\n",
            "125/125 [==============================] - 0s 2ms/step - loss: 0.0051 - val_loss: 0.0054\n",
            "Epoch 115/200\n",
            "125/125 [==============================] - 0s 2ms/step - loss: 0.0051 - val_loss: 0.0053\n",
            "Epoch 116/200\n",
            "125/125 [==============================] - 0s 3ms/step - loss: 0.0051 - val_loss: 0.0053\n",
            "Epoch 117/200\n",
            "125/125 [==============================] - 0s 2ms/step - loss: 0.0051 - val_loss: 0.0053\n",
            "Epoch 118/200\n",
            "125/125 [==============================] - 0s 2ms/step - loss: 0.0051 - val_loss: 0.0053\n",
            "Epoch 119/200\n",
            "125/125 [==============================] - 0s 3ms/step - loss: 0.0051 - val_loss: 0.0054\n",
            "Epoch 120/200\n",
            "125/125 [==============================] - 0s 3ms/step - loss: 0.0051 - val_loss: 0.0053\n",
            "Epoch 121/200\n",
            "125/125 [==============================] - 0s 2ms/step - loss: 0.0051 - val_loss: 0.0053\n",
            "Epoch 122/200\n",
            "125/125 [==============================] - 0s 2ms/step - loss: 0.0051 - val_loss: 0.0053\n",
            "Epoch 123/200\n",
            "125/125 [==============================] - 0s 2ms/step - loss: 0.0051 - val_loss: 0.0053\n",
            "Epoch 124/200\n",
            "125/125 [==============================] - 0s 2ms/step - loss: 0.0051 - val_loss: 0.0053\n",
            "Epoch 125/200\n",
            "125/125 [==============================] - 0s 2ms/step - loss: 0.0051 - val_loss: 0.0053\n",
            "Epoch 126/200\n",
            "125/125 [==============================] - 0s 2ms/step - loss: 0.0051 - val_loss: 0.0053\n",
            "Epoch 127/200\n",
            "125/125 [==============================] - 0s 3ms/step - loss: 0.0051 - val_loss: 0.0053\n",
            "Epoch 128/200\n",
            "125/125 [==============================] - 0s 2ms/step - loss: 0.0051 - val_loss: 0.0052\n",
            "Epoch 129/200\n",
            "125/125 [==============================] - 0s 2ms/step - loss: 0.0050 - val_loss: 0.0053\n",
            "Epoch 130/200\n",
            "125/125 [==============================] - 0s 2ms/step - loss: 0.0051 - val_loss: 0.0052\n",
            "Epoch 131/200\n",
            "125/125 [==============================] - 0s 2ms/step - loss: 0.0050 - val_loss: 0.0052\n",
            "Epoch 132/200\n",
            "125/125 [==============================] - 0s 2ms/step - loss: 0.0050 - val_loss: 0.0053\n",
            "Epoch 133/200\n",
            "125/125 [==============================] - 0s 2ms/step - loss: 0.0050 - val_loss: 0.0053\n",
            "Epoch 134/200\n",
            "125/125 [==============================] - 0s 3ms/step - loss: 0.0051 - val_loss: 0.0052\n",
            "Epoch 135/200\n",
            "125/125 [==============================] - 0s 2ms/step - loss: 0.0050 - val_loss: 0.0052\n",
            "Epoch 136/200\n",
            "125/125 [==============================] - 0s 2ms/step - loss: 0.0050 - val_loss: 0.0052\n",
            "Epoch 137/200\n",
            "125/125 [==============================] - 0s 2ms/step - loss: 0.0050 - val_loss: 0.0052\n",
            "Epoch 138/200\n",
            "125/125 [==============================] - 0s 2ms/step - loss: 0.0050 - val_loss: 0.0052\n",
            "Epoch 139/200\n",
            "125/125 [==============================] - 0s 2ms/step - loss: 0.0050 - val_loss: 0.0052\n",
            "Epoch 140/200\n",
            "125/125 [==============================] - 0s 3ms/step - loss: 0.0050 - val_loss: 0.0053\n",
            "Epoch 141/200\n",
            "125/125 [==============================] - 0s 3ms/step - loss: 0.0050 - val_loss: 0.0052\n",
            "Epoch 142/200\n",
            "125/125 [==============================] - 0s 3ms/step - loss: 0.0050 - val_loss: 0.0052\n",
            "Epoch 143/200\n",
            "125/125 [==============================] - 0s 3ms/step - loss: 0.0050 - val_loss: 0.0052\n",
            "Epoch 144/200\n",
            "125/125 [==============================] - 0s 3ms/step - loss: 0.0050 - val_loss: 0.0052\n",
            "Epoch 145/200\n",
            "125/125 [==============================] - 0s 2ms/step - loss: 0.0050 - val_loss: 0.0052\n",
            "Epoch 146/200\n",
            "125/125 [==============================] - 0s 3ms/step - loss: 0.0050 - val_loss: 0.0052\n",
            "Epoch 147/200\n",
            "125/125 [==============================] - 0s 3ms/step - loss: 0.0050 - val_loss: 0.0052\n",
            "Epoch 148/200\n",
            "125/125 [==============================] - 0s 3ms/step - loss: 0.0050 - val_loss: 0.0053\n",
            "Epoch 149/200\n",
            "125/125 [==============================] - 0s 3ms/step - loss: 0.0050 - val_loss: 0.0053\n",
            "Epoch 150/200\n",
            "125/125 [==============================] - 0s 2ms/step - loss: 0.0050 - val_loss: 0.0052\n",
            "Epoch 151/200\n",
            "125/125 [==============================] - 0s 2ms/step - loss: 0.0050 - val_loss: 0.0052\n",
            "Epoch 152/200\n",
            "125/125 [==============================] - 0s 2ms/step - loss: 0.0050 - val_loss: 0.0052\n",
            "Epoch 153/200\n",
            "125/125 [==============================] - 0s 2ms/step - loss: 0.0050 - val_loss: 0.0052\n",
            "Epoch 154/200\n",
            "125/125 [==============================] - 0s 3ms/step - loss: 0.0050 - val_loss: 0.0052\n",
            "Epoch 155/200\n",
            "125/125 [==============================] - 0s 2ms/step - loss: 0.0050 - val_loss: 0.0052\n",
            "Epoch 156/200\n",
            "125/125 [==============================] - 0s 2ms/step - loss: 0.0050 - val_loss: 0.0052\n",
            "Epoch 157/200\n",
            "125/125 [==============================] - 0s 2ms/step - loss: 0.0050 - val_loss: 0.0052\n",
            "Epoch 158/200\n",
            "125/125 [==============================] - 0s 2ms/step - loss: 0.0050 - val_loss: 0.0052\n",
            "Epoch 159/200\n",
            "125/125 [==============================] - 0s 2ms/step - loss: 0.0050 - val_loss: 0.0052\n",
            "Epoch 160/200\n",
            "125/125 [==============================] - 0s 2ms/step - loss: 0.0050 - val_loss: 0.0053\n",
            "Epoch 161/200\n",
            "125/125 [==============================] - 0s 3ms/step - loss: 0.0050 - val_loss: 0.0052\n",
            "Epoch 162/200\n",
            "125/125 [==============================] - 0s 2ms/step - loss: 0.0050 - val_loss: 0.0052\n",
            "Epoch 163/200\n",
            "125/125 [==============================] - 0s 2ms/step - loss: 0.0050 - val_loss: 0.0052\n",
            "Epoch 164/200\n",
            "125/125 [==============================] - 0s 2ms/step - loss: 0.0050 - val_loss: 0.0052\n",
            "Epoch 165/200\n",
            "125/125 [==============================] - 0s 3ms/step - loss: 0.0050 - val_loss: 0.0053\n",
            "Epoch 166/200\n",
            "125/125 [==============================] - 0s 3ms/step - loss: 0.0050 - val_loss: 0.0052\n",
            "Epoch 167/200\n",
            "125/125 [==============================] - 0s 2ms/step - loss: 0.0050 - val_loss: 0.0052\n",
            "Epoch 168/200\n",
            "125/125 [==============================] - 0s 3ms/step - loss: 0.0050 - val_loss: 0.0052\n",
            "Epoch 169/200\n",
            "125/125 [==============================] - 0s 2ms/step - loss: 0.0050 - val_loss: 0.0052\n",
            "Epoch 170/200\n",
            "125/125 [==============================] - 0s 2ms/step - loss: 0.0050 - val_loss: 0.0052\n",
            "Epoch 171/200\n",
            "125/125 [==============================] - 0s 2ms/step - loss: 0.0050 - val_loss: 0.0052\n",
            "Epoch 172/200\n",
            "125/125 [==============================] - 0s 3ms/step - loss: 0.0050 - val_loss: 0.0052\n",
            "Epoch 173/200\n",
            "125/125 [==============================] - 0s 2ms/step - loss: 0.0050 - val_loss: 0.0052\n",
            "Epoch 174/200\n",
            "125/125 [==============================] - 0s 3ms/step - loss: 0.0050 - val_loss: 0.0052\n",
            "Epoch 175/200\n",
            "125/125 [==============================] - 0s 3ms/step - loss: 0.0050 - val_loss: 0.0052\n",
            "Epoch 176/200\n",
            "125/125 [==============================] - 0s 2ms/step - loss: 0.0050 - val_loss: 0.0052\n",
            "Epoch 177/200\n",
            "125/125 [==============================] - 0s 2ms/step - loss: 0.0050 - val_loss: 0.0052\n",
            "Epoch 178/200\n",
            "125/125 [==============================] - 0s 2ms/step - loss: 0.0050 - val_loss: 0.0052\n",
            "Epoch 179/200\n",
            "125/125 [==============================] - 0s 3ms/step - loss: 0.0050 - val_loss: 0.0052\n",
            "Epoch 180/200\n",
            "125/125 [==============================] - 0s 2ms/step - loss: 0.0050 - val_loss: 0.0052\n",
            "Epoch 181/200\n",
            "125/125 [==============================] - 0s 2ms/step - loss: 0.0050 - val_loss: 0.0053\n",
            "Epoch 182/200\n",
            "125/125 [==============================] - 0s 3ms/step - loss: 0.0050 - val_loss: 0.0052\n",
            "Epoch 183/200\n",
            "125/125 [==============================] - 0s 2ms/step - loss: 0.0050 - val_loss: 0.0052\n",
            "Epoch 184/200\n",
            "125/125 [==============================] - 0s 2ms/step - loss: 0.0050 - val_loss: 0.0052\n",
            "Epoch 185/200\n",
            "125/125 [==============================] - 0s 2ms/step - loss: 0.0050 - val_loss: 0.0052\n",
            "Epoch 186/200\n",
            "125/125 [==============================] - 0s 3ms/step - loss: 0.0050 - val_loss: 0.0052\n",
            "Epoch 187/200\n",
            "125/125 [==============================] - 0s 3ms/step - loss: 0.0050 - val_loss: 0.0052\n",
            "Epoch 188/200\n",
            "125/125 [==============================] - 0s 2ms/step - loss: 0.0050 - val_loss: 0.0052\n",
            "Epoch 189/200\n",
            "125/125 [==============================] - 0s 2ms/step - loss: 0.0049 - val_loss: 0.0052\n",
            "Epoch 190/200\n",
            "125/125 [==============================] - 0s 3ms/step - loss: 0.0049 - val_loss: 0.0052\n",
            "Epoch 191/200\n",
            "125/125 [==============================] - 0s 3ms/step - loss: 0.0049 - val_loss: 0.0052\n",
            "Epoch 192/200\n",
            "125/125 [==============================] - 0s 2ms/step - loss: 0.0050 - val_loss: 0.0052\n",
            "Epoch 193/200\n",
            "125/125 [==============================] - 0s 2ms/step - loss: 0.0049 - val_loss: 0.0051\n",
            "Epoch 194/200\n",
            "125/125 [==============================] - 0s 3ms/step - loss: 0.0049 - val_loss: 0.0052\n",
            "Epoch 195/200\n",
            "125/125 [==============================] - 0s 2ms/step - loss: 0.0049 - val_loss: 0.0052\n",
            "Epoch 196/200\n",
            "125/125 [==============================] - 0s 2ms/step - loss: 0.0049 - val_loss: 0.0052\n",
            "Epoch 197/200\n",
            "125/125 [==============================] - 0s 2ms/step - loss: 0.0050 - val_loss: 0.0052\n",
            "Epoch 198/200\n",
            "125/125 [==============================] - 0s 2ms/step - loss: 0.0049 - val_loss: 0.0052\n",
            "Epoch 199/200\n",
            "125/125 [==============================] - 0s 2ms/step - loss: 0.0050 - val_loss: 0.0052\n",
            "Epoch 200/200\n",
            "125/125 [==============================] - 0s 2ms/step - loss: 0.0049 - val_loss: 0.0052\n"
          ]
        }
      ]
    },
    {
      "cell_type": "markdown",
      "source": [
        "Question 11 : plot the training and validation loss"
      ],
      "metadata": {
        "id": "0c-qVZVUjC5n"
      }
    },
    {
      "cell_type": "code",
      "source": [
        "import matplotlib.pyplot as plt\n",
        "plt.plot(hist.history['loss'])\n",
        "plt.plot(hist.history['val_loss'])\n",
        "plt.title('model loss')\n",
        "plt.ylabel('loss')\n",
        "plt.xlabel('epoch')\n",
        "plt.legend(['train', 'test'], loc='upper left')\n",
        "plt.show()"
      ],
      "metadata": {
        "colab": {
          "base_uri": "https://localhost:8080/",
          "height": 295
        },
        "id": "ag8-4-LajIfK",
        "outputId": "c7608dd8-c574-4894-8ec1-cef1290ca637"
      },
      "execution_count": null,
      "outputs": [
        {
          "output_type": "display_data",
          "data": {
            "text/plain": [
              "<Figure size 432x288 with 1 Axes>"
            ],
            "image/png": "[encoded data removed]"
          },
          "metadata": {
            "needs_background": "light"
          }
        }
      ]
    },
    {
      "cell_type": "markdown",
      "source": [
        "Question 12 : model performance"
      ],
      "metadata": {
        "id": "a4HGOKUXjMTe"
      }
    },
    {
      "cell_type": "code",
      "source": [
        "scores = model.evaluate(X_test, y_test, verbose=1)\n",
        "print(\"%s: %.5f\" % (model.metrics_names, scores))"
      ],
      "metadata": {
        "colab": {
          "base_uri": "https://localhost:8080/"
        },
        "id": "i6r2uQURjTeE",
        "outputId": "5a2d225a-1f46-4cda-c174-0334a194f9dd"
      },
      "execution_count": null,
      "outputs": [
        {
          "output_type": "stream",
          "name": "stdout",
          "text": [
            "32/32 [==============================] - 0s 1ms/step - loss: 0.0052\n",
            "['loss']: 0.00520\n"
          ]
        }
      ]
    },
    {
      "cell_type": "markdown",
      "source": [
        "Question 13 : converting the predicted and target values to their original values "
      ],
      "metadata": {
        "id": "MD-trGdOjW_n"
      }
    },
    {
      "cell_type": "code",
      "source": [
        "y_pred=model.predict(X_test)\n",
        "y_pred=(y_pred*(max[7]-min[7])+min[7])\n",
        "y_test=(y_test*(max[7]-min[7])+min[7])\n",
        "\n",
        "#since we cannot plot more than two dimensions, we go through a\n",
        "#acp to reduce data dimension\n",
        "from sklearn.decomposition import PCA\n",
        "pca = PCA(1)\n",
        "df = pca.fit_transform(X_test)\n",
        "#plot \n",
        "plt.scatter(df,y_test)\n",
        "plt.scatter(df,y_pred)\n",
        "plt.show()"
      ],
      "metadata": {
        "colab": {
          "base_uri": "https://localhost:8080/",
          "height": 282
        },
        "id": "XsDth2KYjbb7",
        "outputId": "7454985c-f870-4454-837e-fe7bb8d28936"
      },
      "execution_count": null,
      "outputs": [
        {
          "output_type": "stream",
          "name": "stdout",
          "text": [
            "32/32 [==============================] - 0s 1ms/step\n"
          ]
        },
        {
          "output_type": "display_data",
          "data": {
            "text/plain": [
              "<Figure size 432x288 with 1 Axes>"
            ],
            "image/png": "[encoded data removed]"
          },
          "metadata": {
            "needs_background": "light"
          }
        }
      ]
    }
  ]
}