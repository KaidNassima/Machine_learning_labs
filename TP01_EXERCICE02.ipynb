{
  "nbformat": 4,
  "nbformat_minor": 0,
  "metadata": {
    "colab": {
      "provenance": [],
      "authorship_tag": "ABX9TyM+F3hVyhsH5ES2JhXsz9/I",
      "include_colab_link": true
    },
    "kernelspec": {
      "name": "python3",
      "display_name": "Python 3"
    },
    "language_info": {
      "name": "python"
    }
  },
  "cells": [
    {
      "cell_type": "markdown",
      "metadata": {
        "id": "view-in-github",
        "colab_type": "text"
      },
      "source": [
        "<a href=\"https://colab.research.google.com/github/KaidNassima/Machine_learning_labs/blob/main/TP01_EXERCICE02.ipynb\" target=\"_parent\"><img src=\"https://colab.research.google.com/assets/colab-badge.svg\" alt=\"Open In Colab\"/></a>"
      ]
    },
    {
      "cell_type": "markdown",
      "source": [
        "QUESTION 01"
      ],
      "metadata": {
        "id": "jPBNCtsCFnNz"
      }
    },
    {
      "cell_type": "code",
      "execution_count": null,
      "metadata": {
        "id": "koVoQdqYD4Qq"
      },
      "outputs": [],
      "source": [
        "#import libraries\n",
        "import matplotlib.pyplot as plt \n",
        "import numpy as np\n",
        "from sklearn import datasets,linear_model,model_selection"
      ]
    },
    {
      "cell_type": "code",
      "source": [
        "#LOADING DATASET\n",
        "X, y = datasets.load_diabetes(return_X_y=True)"
      ],
      "metadata": {
        "id": "EB7lUhW9Ek4b"
      },
      "execution_count": null,
      "outputs": []
    },
    {
      "cell_type": "markdown",
      "source": [
        "QUESTION 02\n"
      ],
      "metadata": {
        "id": "WeePTIPCFtbz"
      }
    },
    {
      "cell_type": "code",
      "source": [
        "#display the shape of the data matrix\n",
        "print(X.shape)\n",
        "#display its first element\n",
        "print(X[0])\n",
        "#the dataset have 10 features ,442 samples"
      ],
      "metadata": {
        "colab": {
          "base_uri": "https://localhost:8080/"
        },
        "id": "gFkOf_9YEaiu",
        "outputId": "0ce46996-bd9b-4a2b-e8f1-bf21ec829cbf"
      },
      "execution_count": null,
      "outputs": [
        {
          "output_type": "stream",
          "name": "stdout",
          "text": [
            "(442, 10)\n",
            "[ 0.03807591  0.05068012  0.06169621  0.02187235 -0.0442235  -0.03482076\n",
            " -0.04340085 -0.00259226  0.01990842 -0.01764613]\n"
          ]
        }
      ]
    },
    {
      "cell_type": "markdown",
      "source": [
        "QUESTION 03\n"
      ],
      "metadata": {
        "id": "hmK3PTZwIGd5"
      }
    },
    {
      "cell_type": "code",
      "source": [
        "#selecting a part of the dataset \n",
        "X = X[:,2]\n",
        "#reshaping into one vector \n",
        "X = X[:, np.newaxis]\n",
        "print(X.shape)"
      ],
      "metadata": {
        "colab": {
          "base_uri": "https://localhost:8080/"
        },
        "id": "90HbBDulHD-m",
        "outputId": "a48528ef-778a-402e-d4a7-09e8d9fb6be7"
      },
      "execution_count": null,
      "outputs": [
        {
          "output_type": "stream",
          "name": "stdout",
          "text": [
            "(442, 1)\n"
          ]
        }
      ]
    },
    {
      "cell_type": "markdown",
      "source": [
        "QUESTION 04\n"
      ],
      "metadata": {
        "id": "1raJF1cZIJeR"
      }
    },
    {
      "cell_type": "code",
      "source": [
        "#split the dat into test and training sets\n",
        "from sklearn.model_selection import train_test_split\n",
        "train_x, test_x, train_y, test_y = train_test_split( X,y, test_size=0.25,random_state=99)\n",
        "print(\"training set :\",str(train_x.shape))\n",
        "print(\"test set :\",str(test_x.shape))\n",
        "\n",
        "\n"
      ],
      "metadata": {
        "colab": {
          "base_uri": "https://localhost:8080/"
        },
        "id": "d0rOHVfKIM-o",
        "outputId": "44ead28b-b2ca-4406-d1b8-f058493c7351"
      },
      "execution_count": null,
      "outputs": [
        {
          "output_type": "stream",
          "name": "stdout",
          "text": [
            "training set : (331, 1)\n",
            "test set : (111, 1)\n"
          ]
        }
      ]
    },
    {
      "cell_type": "markdown",
      "source": [
        "QUESTION 05\n"
      ],
      "metadata": {
        "id": "251QTt7fJbXL"
      }
    },
    {
      "cell_type": "code",
      "source": [
        "\n",
        "#define the model and its parameters\n",
        "model = linear_model.LinearRegression()\n",
        "#training \n",
        "model.fit(train_x, train_y.ravel())"
      ],
      "metadata": {
        "colab": {
          "base_uri": "https://localhost:8080/"
        },
        "id": "U_Utm-T2Jd8T",
        "outputId": "4f61bd4c-cce2-4ef8-b8ea-0f155414f3d5"
      },
      "execution_count": null,
      "outputs": [
        {
          "output_type": "execute_result",
          "data": {
            "text/plain": [
              "LinearRegression()"
            ]
          },
          "metadata": {},
          "execution_count": 6
        }
      ]
    },
    {
      "cell_type": "markdown",
      "source": [
        "QUESTION 06"
      ],
      "metadata": {
        "id": "HuQBTyHJJ1PK"
      }
    },
    {
      "cell_type": "code",
      "source": [
        "import pandas as pd\n",
        "#prediction\n",
        "pred_y=model.predict(test_x)\n",
        "#display the actual values and the predicted ones\n",
        "result = pd.DataFrame({'Actual': test_y, 'Predict' : pred_y})\n",
        "result"
      ],
      "metadata": {
        "colab": {
          "base_uri": "https://localhost:8080/",
          "height": 424
        },
        "id": "bn7Dkp4WJ291",
        "outputId": "60d40e2a-a505-415e-c725-8c40a2ca4020"
      },
      "execution_count": null,
      "outputs": [
        {
          "output_type": "execute_result",
          "data": {
            "text/plain": [
              "     Actual     Predict\n",
              "0      75.0  112.945361\n",
              "1     128.0  170.984616\n",
              "2     125.0  119.276916\n",
              "3     332.0  229.023872\n",
              "4      37.0   91.840177\n",
              "..      ...         ...\n",
              "106   225.0  169.929357\n",
              "107    59.0  158.321506\n",
              "108   109.0   99.226991\n",
              "109    74.0  108.724324\n",
              "110   131.0  145.658396\n",
              "\n",
              "[111 rows x 2 columns]"
            ],
            "text/html": [
              "\n",
              "  <div id=\"df-9e8bc680-5025-4b57-abfb-174aef8acc3c\">\n",
              "    <div class=\"colab-df-container\">\n",
              "      <div>\n",
              "<style scoped>\n",
              "    .dataframe tbody tr th:only-of-type {\n",
              "        vertical-align: middle;\n",
              "    }\n",
              "\n",
              "    .dataframe tbody tr th {\n",
              "        vertical-align: top;\n",
              "    }\n",
              "\n",
              "    .dataframe thead th {\n",
              "        text-align: right;\n",
              "    }\n",
              "</style>\n",
              "<table border=\"1\" class=\"dataframe\">\n",
              "  <thead>\n",
              "    <tr style=\"text-align: right;\">\n",
              "      <th></th>\n",
              "      <th>Actual</th>\n",
              "      <th>Predict</th>\n",
              "    </tr>\n",
              "  </thead>\n",
              "  <tbody>\n",
              "    <tr>\n",
              "      <th>0</th>\n",
              "      <td>75.0</td>\n",
              "      <td>112.945361</td>\n",
              "    </tr>\n",
              "    <tr>\n",
              "      <th>1</th>\n",
              "      <td>128.0</td>\n",
              "      <td>170.984616</td>\n",
              "    </tr>\n",
              "    <tr>\n",
              "      <th>2</th>\n",
              "      <td>125.0</td>\n",
              "      <td>119.276916</td>\n",
              "    </tr>\n",
              "    <tr>\n",
              "      <th>3</th>\n",
              "      <td>332.0</td>\n",
              "      <td>229.023872</td>\n",
              "    </tr>\n",
              "    <tr>\n",
              "      <th>4</th>\n",
              "      <td>37.0</td>\n",
              "      <td>91.840177</td>\n",
              "    </tr>\n",
              "    <tr>\n",
              "      <th>...</th>\n",
              "      <td>...</td>\n",
              "      <td>...</td>\n",
              "    </tr>\n",
              "    <tr>\n",
              "      <th>106</th>\n",
              "      <td>225.0</td>\n",
              "      <td>169.929357</td>\n",
              "    </tr>\n",
              "    <tr>\n",
              "      <th>107</th>\n",
              "      <td>59.0</td>\n",
              "      <td>158.321506</td>\n",
              "    </tr>\n",
              "    <tr>\n",
              "      <th>108</th>\n",
              "      <td>109.0</td>\n",
              "      <td>99.226991</td>\n",
              "    </tr>\n",
              "    <tr>\n",
              "      <th>109</th>\n",
              "      <td>74.0</td>\n",
              "      <td>108.724324</td>\n",
              "    </tr>\n",
              "    <tr>\n",
              "      <th>110</th>\n",
              "      <td>131.0</td>\n",
              "      <td>145.658396</td>\n",
              "    </tr>\n",
              "  </tbody>\n",
              "</table>\n",
              "<p>111 rows × 2 columns</p>\n",
              "</div>\n",
              "      <button class=\"colab-df-convert\" onclick=\"convertToInteractive('df-9e8bc680-5025-4b57-abfb-174aef8acc3c')\"\n",
              "              title=\"Convert this dataframe to an interactive table.\"\n",
              "              style=\"display:none;\">\n",
              "        \n",
              "  <svg xmlns=\"http://www.w3.org/2000/svg\" height=\"24px\"viewBox=\"0 0 24 24\"\n",
              "       width=\"24px\">\n",
              "    <path d=\"M0 0h24v24H0V0z\" fill=\"none\"/>\n",
              "    <path d=\"M18.56 5.44l.94 2.06.94-2.06 2.06-.94-2.06-.94-.94-2.06-.94 2.06-2.06.94zm-11 1L8.5 8.5l.94-2.06 2.06-.94-2.06-.94L8.5 2.5l-.94 2.06-2.06.94zm10 10l.94 2.06.94-2.06 2.06-.94-2.06-.94-.94-2.06-.94 2.06-2.06.94z\"/><path d=\"M17.41 7.96l-1.37-1.37c-.4-.4-.92-.59-1.43-.59-.52 0-1.04.2-1.43.59L10.3 9.45l-7.72 7.72c-.78.78-.78 2.05 0 2.83L4 21.41c.39.39.9.59 1.41.59.51 0 1.02-.2 1.41-.59l7.78-7.78 2.81-2.81c.8-.78.8-2.07 0-2.86zM5.41 20L4 18.59l7.72-7.72 1.47 1.35L5.41 20z\"/>\n",
              "  </svg>\n",
              "      </button>\n",
              "      \n",
              "  <style>\n",
              "    .colab-df-container {\n",
              "      display:flex;\n",
              "      flex-wrap:wrap;\n",
              "      gap: 12px;\n",
              "    }\n",
              "\n",
              "    .colab-df-convert {\n",
              "      background-color: #E8F0FE;\n",
              "      border: none;\n",
              "      border-radius: 50%;\n",
              "      cursor: pointer;\n",
              "      display: none;\n",
              "      fill: #1967D2;\n",
              "      height: 32px;\n",
              "      padding: 0 0 0 0;\n",
              "      width: 32px;\n",
              "    }\n",
              "\n",
              "    .colab-df-convert:hover {\n",
              "      background-color: #E2EBFA;\n",
              "      box-shadow: 0px 1px 2px rgba(60, 64, 67, 0.3), 0px 1px 3px 1px rgba(60, 64, 67, 0.15);\n",
              "      fill: #174EA6;\n",
              "    }\n",
              "\n",
              "    [theme=dark] .colab-df-convert {\n",
              "      background-color: #3B4455;\n",
              "      fill: #D2E3FC;\n",
              "    }\n",
              "\n",
              "    [theme=dark] .colab-df-convert:hover {\n",
              "      background-color: #434B5C;\n",
              "      box-shadow: 0px 1px 3px 1px rgba(0, 0, 0, 0.15);\n",
              "      filter: drop-shadow(0px 1px 2px rgba(0, 0, 0, 0.3));\n",
              "      fill: #FFFFFF;\n",
              "    }\n",
              "  </style>\n",
              "\n",
              "      <script>\n",
              "        const buttonEl =\n",
              "          document.querySelector('#df-9e8bc680-5025-4b57-abfb-174aef8acc3c button.colab-df-convert');\n",
              "        buttonEl.style.display =\n",
              "          google.colab.kernel.accessAllowed ? 'block' : 'none';\n",
              "\n",
              "        async function convertToInteractive(key) {\n",
              "          const element = document.querySelector('#df-9e8bc680-5025-4b57-abfb-174aef8acc3c');\n",
              "          const dataTable =\n",
              "            await google.colab.kernel.invokeFunction('convertToInteractive',\n",
              "                                                     [key], {});\n",
              "          if (!dataTable) return;\n",
              "\n",
              "          const docLinkHtml = 'Like what you see? Visit the ' +\n",
              "            '<a target=\"_blank\" href=https://colab.research.google.com/notebooks/data_table.ipynb>data table notebook</a>'\n",
              "            + ' to learn more about interactive tables.';\n",
              "          element.innerHTML = '';\n",
              "          dataTable['output_type'] = 'display_data';\n",
              "          await google.colab.output.renderOutput(dataTable, element);\n",
              "          const docLink = document.createElement('div');\n",
              "          docLink.innerHTML = docLinkHtml;\n",
              "          element.appendChild(docLink);\n",
              "        }\n",
              "      </script>\n",
              "    </div>\n",
              "  </div>\n",
              "  "
            ]
          },
          "metadata": {},
          "execution_count": 7
        }
      ]
    },
    {
      "cell_type": "markdown",
      "source": [
        "QUESTION 07"
      ],
      "metadata": {
        "id": "_W7xrJGkKKuD"
      }
    },
    {
      "cell_type": "code",
      "source": [
        "from sklearn.metrics import mean_squared_error, r2_score\n",
        "#calculate the error\n",
        "mse = mean_squared_error(test_y,pred_y)\n",
        "print(\"MEAN SQUARED ERROR:\",str(mse))\n",
        "R2_score=r2_score(test_y,pred_y)\n",
        "print(\"R2_score:\",str(R2_score))"
      ],
      "metadata": {
        "colab": {
          "base_uri": "https://localhost:8080/"
        },
        "id": "Vmq4shz9KMkw",
        "outputId": "3adbb126-8179-4db1-d8ce-04ae865517ff"
      },
      "execution_count": null,
      "outputs": [
        {
          "output_type": "stream",
          "name": "stdout",
          "text": [
            "MEAN SQUARED ERROR: 3829.464260093758\n",
            "R2_score: 0.3135660979390906\n"
          ]
        }
      ]
    },
    {
      "cell_type": "markdown",
      "source": [
        "QUESTION 08"
      ],
      "metadata": {
        "id": "dAK7KHuwK4q_"
      }
    },
    {
      "cell_type": "code",
      "source": [
        "plt.figure()\n",
        "plt.scatter(test_x,test_y)\n",
        "plt.plot(test_x, model.predict(test_x), color= 'red')\n",
        "plt.show()"
      ],
      "metadata": {
        "colab": {
          "base_uri": "https://localhost:8080/",
          "height": 265
        },
        "id": "34RCp1LaK6Xu",
        "outputId": "9b4ee3a9-974b-4ee2-ed38-63c5475f8fd3"
      },
      "execution_count": null,
      "outputs": [
        {
          "output_type": "display_data",
          "data": {
            "text/plain": [
              "<Figure size 432x288 with 1 Axes>"
            ],
            "image/png": "[encoded data removed]"
          },
          "metadata": {
            "needs_background": "light"
          }
        }
      ]
    },
    {
      "cell_type": "markdown",
      "source": [
        "QUESTION 09 :repete for the other variables"
      ],
      "metadata": {
        "id": "2au-RL9fLRLs"
      }
    },
    {
      "cell_type": "code",
      "source": [
        "X, y = datasets.load_diabetes(return_X_y=True)\n",
        "error=[mse]\n",
        "score=[R2_score]\n",
        "for i in range(3,10):#for loop to pass on all variables\n",
        "  x=X[:,i]\n",
        "  x = x[:, np.newaxis]\n",
        " #split data into training and test set\n",
        "  train_x, test_x, train_y, test_y = train_test_split( x,y, test_size=0.25,random_state=99)\n",
        " #define the model with parameters and start training phase \n",
        "  model = linear_model.LinearRegression()\n",
        "  model.fit(train_x, train_y.ravel())\n",
        "  #prediction \n",
        "  pred_y = model.predict(test_x)\n",
        "  #calculating the mean score error and the r2 score\n",
        "  mse=mean_squared_error(test_y,pred_y)\n",
        "  score= r2_score(test_y,pred_y)\n",
        "  plt.figure()\n",
        "  plt.scatter(test_x,test_y)\n",
        "  plt.plot(test_x,pred_y, color= 'red')\n",
        "  plt.title('variable '+str(i+1))\n",
        "  print(\"MEAN SQUARED ERROR:\",str(mse))\n",
        "  print(\"R2_score:\",str(R2_score))\n",
        "  plt.show()\n",
        " "
      ],
      "metadata": {
        "colab": {
          "base_uri": "https://localhost:8080/",
          "height": 1000
        },
        "id": "NaQqQ_VLSYkx",
        "outputId": "5efcc254-7c60-4bbf-8ca4-e27d7481dc30"
      },
      "execution_count": null,
      "outputs": [
        {
          "output_type": "stream",
          "name": "stdout",
          "text": [
            "MEAN SQUARED ERROR: 4768.418514969196\n",
            "R2_score: 0.3135660979390906\n"
          ]
        },
        {
          "output_type": "display_data",
          "data": {
            "text/plain": [
              "<Figure size 432x288 with 1 Axes>"
            ],
            "image/png": "[encoded data removed]"
          },
          "metadata": {
            "needs_background": "light"
          }
        },
        {
          "output_type": "stream",
          "name": "stdout",
          "text": [
            "MEAN SQUARED ERROR: 5256.4829587387785\n",
            "R2_score: 0.3135660979390906\n"
          ]
        },
        {
          "output_type": "display_data",
          "data": {
            "text/plain": [
              "<Figure size 432x288 with 1 Axes>"
            ],
            "image/png": "[encoded data removed]"
          },
          "metadata": {
            "needs_background": "light"
          }
        },
        {
          "output_type": "stream",
          "name": "stdout",
          "text": [
            "MEAN SQUARED ERROR: 5354.732181685552\n",
            "R2_score: 0.3135660979390906\n"
          ]
        },
        {
          "output_type": "display_data",
          "data": {
            "text/plain": [
              "<Figure size 432x288 with 1 Axes>"
            ],
            "image/png": "[encoded data removed]"
          },
          "metadata": {
            "needs_background": "light"
          }
        },
        {
          "output_type": "stream",
          "name": "stdout",
          "text": [
            "MEAN SQUARED ERROR: 4713.299158536802\n",
            "R2_score: 0.3135660979390906\n"
          ]
        },
        {
          "output_type": "display_data",
          "data": {
            "text/plain": [
              "<Figure size 432x288 with 1 Axes>"
            ],
            "image/png": "[encoded data removed]"
          },
          "metadata": {
            "needs_background": "light"
          }
        },
        {
          "output_type": "stream",
          "name": "stdout",
          "text": [
            "MEAN SQUARED ERROR: 4271.668203580901\n",
            "R2_score: 0.3135660979390906\n"
          ]
        },
        {
          "output_type": "display_data",
          "data": {
            "text/plain": [
              "<Figure size 432x288 with 1 Axes>"
            ],
            "image/png": "[encoded data removed]"
          },
          "metadata": {
            "needs_background": "light"
          }
        },
        {
          "output_type": "stream",
          "name": "stdout",
          "text": [
            "MEAN SQUARED ERROR: 3738.9123856754013\n",
            "R2_score: 0.3135660979390906\n"
          ]
        },
        {
          "output_type": "display_data",
          "data": {
            "text/plain": [
              "<Figure size 432x288 with 1 Axes>"
            ],
            "image/png": "[encoded data removed]"
          },
          "metadata": {
            "needs_background": "light"
          }
        },
        {
          "output_type": "stream",
          "name": "stdout",
          "text": [
            "MEAN SQUARED ERROR: 4799.006217663559\n",
            "R2_score: 0.3135660979390906\n"
          ]
        },
        {
          "output_type": "display_data",
          "data": {
            "text/plain": [
              "<Figure size 432x288 with 1 Axes>"
            ],
            "image/png": "[encoded data removed]"
          },
          "metadata": {
            "needs_background": "light"
          }
        }
      ]
    }
  ]
}